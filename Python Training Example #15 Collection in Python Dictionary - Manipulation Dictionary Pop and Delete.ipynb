{
 "cells": [
  {
   "cell_type": "markdown",
   "metadata": {},
   "source": [
    "# Python Training Example #15 Collection in Python Dictionary - Manipulation Dictionary Pop and Delete"
   ]
  },
  {
   "cell_type": "markdown",
   "metadata": {},
   "source": [
    "## Create a Dictionary, key must unique"
   ]
  },
  {
   "cell_type": "code",
   "execution_count": 16,
   "metadata": {},
   "outputs": [
    {
     "data": {
      "text/plain": [
       "{'Vincet': 'Man',\n",
       " 'Adel': 'Man',\n",
       " 'Kiky': 'Woman',\n",
       " 'Pandot': 'Man',\n",
       " 'Depil': 'Man',\n",
       " 'Mini': 'Woman',\n",
       " 'Jambrong': 'Man'}"
      ]
     },
     "execution_count": 16,
     "metadata": {},
     "output_type": "execute_result"
    }
   ],
   "source": [
    "# Create a Dictionary, key must unique\n",
    "name_dictionary = {'Vincet' : 'Man', 'Adel' : 'Man', 'Kiky' : 'Woman', 'Pandot' : 'Man', 'Depil' : 'Man', 'Mini' : 'Woman', 'Jambrong' : 'Man'} # Create dictionary with {}\n",
    "name_dictionary"
   ]
  },
  {
   "cell_type": "markdown",
   "metadata": {},
   "source": [
    "## .popitem()"
   ]
  },
  {
   "cell_type": "code",
   "execution_count": 18,
   "metadata": {},
   "outputs": [
    {
     "data": {
      "text/plain": [
       "('Jambrong', 'Man')"
      ]
     },
     "execution_count": 18,
     "metadata": {},
     "output_type": "execute_result"
    }
   ],
   "source": [
    "name_dictionary.popitem() # popitem will delete the last key and value"
   ]
  },
  {
   "cell_type": "code",
   "execution_count": 20,
   "metadata": {},
   "outputs": [
    {
     "data": {
      "text/plain": [
       "{'Vincet': 'Man',\n",
       " 'Adel': 'Man',\n",
       " 'Kiky': 'Woman',\n",
       " 'Pandot': 'Man',\n",
       " 'Depil': 'Man',\n",
       " 'Mini': 'Woman'}"
      ]
     },
     "execution_count": 20,
     "metadata": {},
     "output_type": "execute_result"
    }
   ],
   "source": [
    "name_dictionary # key Jambrong and value Man deleted"
   ]
  },
  {
   "cell_type": "markdown",
   "metadata": {},
   "source": [
    "## .pop()"
   ]
  },
  {
   "cell_type": "code",
   "execution_count": 21,
   "metadata": {},
   "outputs": [
    {
     "data": {
      "text/plain": [
       "'Man'"
      ]
     },
     "execution_count": 21,
     "metadata": {},
     "output_type": "execute_result"
    }
   ],
   "source": [
    "name_dictionary.pop('Depil') # pop will delete the key and value we want (Key Depil, Value Man)"
   ]
  },
  {
   "cell_type": "code",
   "execution_count": 23,
   "metadata": {},
   "outputs": [
    {
     "data": {
      "text/plain": [
       "{'Vincet': 'Man',\n",
       " 'Adel': 'Man',\n",
       " 'Kiky': 'Woman',\n",
       " 'Pandot': 'Man',\n",
       " 'Mini': 'Woman'}"
      ]
     },
     "execution_count": 23,
     "metadata": {},
     "output_type": "execute_result"
    }
   ],
   "source": [
    "name_dictionary # key Depil and value Man deleted"
   ]
  },
  {
   "cell_type": "markdown",
   "metadata": {},
   "source": [
    "## del"
   ]
  },
  {
   "cell_type": "code",
   "execution_count": 27,
   "metadata": {},
   "outputs": [],
   "source": [
    "del name_dictionary['Mini'] # del will delete the key and value we want (Key Mini, Value Woman)"
   ]
  },
  {
   "cell_type": "code",
   "execution_count": 29,
   "metadata": {},
   "outputs": [
    {
     "data": {
      "text/plain": [
       "{'Vincet': 'Man', 'Adel': 'Man', 'Kiky': 'Woman', 'Pandot': 'Man'}"
      ]
     },
     "execution_count": 29,
     "metadata": {},
     "output_type": "execute_result"
    }
   ],
   "source": [
    "name_dictionary # key Mini and value Woman deleted"
   ]
  },
  {
   "cell_type": "markdown",
   "metadata": {},
   "source": [
    "## Create a Nested Dictionary, key must unique"
   ]
  },
  {
   "cell_type": "code",
   "execution_count": 46,
   "metadata": {},
   "outputs": [
    {
     "data": {
      "text/plain": [
       "{'Student1': {'Name': 'Vincet', 'Gender': 'Man', 'BOD': 1991},\n",
       " 'Student2': {'Name': 'Adel', 'Gender': 'Man', 'BOD': 1992},\n",
       " 'Student3': {'Name': 'Kiky', 'Gender': 'Woman', 'BOD': 1995},\n",
       " 'Student4': {'Name': 'Pandot', 'Gender': 'Man', 'BOD': 1994},\n",
       " 'Student5': {'Name': 'Depil', 'Gender': 'Man', 'BOD': 1996},\n",
       " 'Student6': {'Name': 'Mini', 'Gender': 'Woman', 'BOD': 1994},\n",
       " 'Student7': {'Name': 'Jambrong', 'Gender': 'Man', 'BOD': 1992}}"
      ]
     },
     "execution_count": 46,
     "metadata": {},
     "output_type": "execute_result"
    }
   ],
   "source": [
    "# Create a nested Dictionary, key must unique\n",
    "name_nested_dictionary = {\n",
    "    'Student1' : {'Name' : 'Vincet',\n",
    "                  'Gender' : 'Man',\n",
    "                  'BOD' : 1991\n",
    "                 },\n",
    "    'Student2' : {'Name' : 'Adel',\n",
    "                  'Gender' : 'Man',\n",
    "                  'BOD' : 1992\n",
    "                 },\n",
    "    'Student3' : {'Name' : 'Kiky',\n",
    "                  'Gender' : 'Woman', \n",
    "                  'BOD' : 1995\n",
    "                 },\n",
    "    'Student4' : {'Name' : 'Pandot',\n",
    "                  'Gender' : 'Man',\n",
    "                  'BOD' : 1994\n",
    "                 },\n",
    "    'Student5' : {'Name' : 'Depil',\n",
    "                  'Gender' : 'Man',\n",
    "                  'BOD' : 1996\n",
    "                 },\n",
    "    'Student6' : {'Name' : 'Mini',\n",
    "                  'Gender' : 'Woman',\n",
    "                  'BOD' : 1994\n",
    "                 }, \n",
    "    'Student7' : {'Name' : 'Jambrong',\n",
    "                  'Gender' : 'Man',\n",
    "                 'BOD' : 1992\n",
    "                 }\n",
    "} # Create nested dictionary with {}\n",
    "name_nested_dictionary"
   ]
  },
  {
   "cell_type": "markdown",
   "metadata": {},
   "source": [
    "## .popitem()"
   ]
  },
  {
   "cell_type": "code",
   "execution_count": 47,
   "metadata": {},
   "outputs": [
    {
     "data": {
      "text/plain": [
       "('Student7', {'Name': 'Jambrong', 'Gender': 'Man', 'BOD': 1992})"
      ]
     },
     "execution_count": 47,
     "metadata": {},
     "output_type": "execute_result"
    }
   ],
   "source": [
    "name_nested_dictionary.popitem() # popitem will delete the last key and value"
   ]
  },
  {
   "cell_type": "code",
   "execution_count": 48,
   "metadata": {},
   "outputs": [
    {
     "data": {
      "text/plain": [
       "{'Student1': {'Name': 'Vincet', 'Gender': 'Man', 'BOD': 1991},\n",
       " 'Student2': {'Name': 'Adel', 'Gender': 'Man', 'BOD': 1992},\n",
       " 'Student3': {'Name': 'Kiky', 'Gender': 'Woman', 'BOD': 1995},\n",
       " 'Student4': {'Name': 'Pandot', 'Gender': 'Man', 'BOD': 1994},\n",
       " 'Student5': {'Name': 'Depil', 'Gender': 'Man', 'BOD': 1996},\n",
       " 'Student6': {'Name': 'Mini', 'Gender': 'Woman', 'BOD': 1994}}"
      ]
     },
     "execution_count": 48,
     "metadata": {},
     "output_type": "execute_result"
    }
   ],
   "source": [
    "name_nested_dictionary # key Student 7 and value Name, Gender, and BOD deleted"
   ]
  },
  {
   "cell_type": "markdown",
   "metadata": {},
   "source": [
    "## .pop()"
   ]
  },
  {
   "cell_type": "code",
   "execution_count": 49,
   "metadata": {},
   "outputs": [
    {
     "data": {
      "text/plain": [
       "{'Name': 'Depil', 'Gender': 'Man', 'BOD': 1996}"
      ]
     },
     "execution_count": 49,
     "metadata": {},
     "output_type": "execute_result"
    }
   ],
   "source": [
    "name_nested_dictionary.pop('Student5') # pop will delete the key and value we want (Key Student5, Values Name, Gender, BOD)"
   ]
  },
  {
   "cell_type": "code",
   "execution_count": 50,
   "metadata": {},
   "outputs": [
    {
     "data": {
      "text/plain": [
       "{'Student1': {'Name': 'Vincet', 'Gender': 'Man', 'BOD': 1991},\n",
       " 'Student2': {'Name': 'Adel', 'Gender': 'Man', 'BOD': 1992},\n",
       " 'Student3': {'Name': 'Kiky', 'Gender': 'Woman', 'BOD': 1995},\n",
       " 'Student4': {'Name': 'Pandot', 'Gender': 'Man', 'BOD': 1994},\n",
       " 'Student6': {'Name': 'Mini', 'Gender': 'Woman', 'BOD': 1994}}"
      ]
     },
     "execution_count": 50,
     "metadata": {},
     "output_type": "execute_result"
    }
   ],
   "source": [
    "name_nested_dictionary # key Depil and value Man deleted"
   ]
  },
  {
   "cell_type": "markdown",
   "metadata": {},
   "source": [
    "## del"
   ]
  },
  {
   "cell_type": "code",
   "execution_count": 51,
   "metadata": {},
   "outputs": [],
   "source": [
    "del name_nested_dictionary['Student4'] # del will delete the key and value we want (Key Student5, Values Name, Gender, BOD)"
   ]
  },
  {
   "cell_type": "code",
   "execution_count": 52,
   "metadata": {},
   "outputs": [
    {
     "data": {
      "text/plain": [
       "{'Student1': {'Name': 'Vincet', 'Gender': 'Man', 'BOD': 1991},\n",
       " 'Student2': {'Name': 'Adel', 'Gender': 'Man', 'BOD': 1992},\n",
       " 'Student3': {'Name': 'Kiky', 'Gender': 'Woman', 'BOD': 1995},\n",
       " 'Student6': {'Name': 'Mini', 'Gender': 'Woman', 'BOD': 1994}}"
      ]
     },
     "execution_count": 52,
     "metadata": {},
     "output_type": "execute_result"
    }
   ],
   "source": [
    "name_nested_dictionary # key Mini and value Woman deleted"
   ]
  }
 ],
 "metadata": {
  "kernelspec": {
   "display_name": "Python 3",
   "language": "python",
   "name": "python3"
  },
  "language_info": {
   "codemirror_mode": {
    "name": "ipython",
    "version": 3
   },
   "file_extension": ".py",
   "mimetype": "text/x-python",
   "name": "python",
   "nbconvert_exporter": "python",
   "pygments_lexer": "ipython3",
   "version": "3.8.5"
  }
 },
 "nbformat": 4,
 "nbformat_minor": 4
}
